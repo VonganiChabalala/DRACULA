{
 "cells": [
  {
   "cell_type": "code",
   "execution_count": 11,
   "metadata": {
    "collapsed": false
   },
   "outputs": [],
   "source": [
    "from numpy import loadtxt, genfromtxt, shape, mean, sort, savetxt, size, array, copy\n",
    "from pylab import figure\n",
    "from matplotlib.pyplot import plot, savefig, xlabel, ylabel, scatter, axis, xlim, fill_between, legend, text, show\n",
    "from sklearn.decomposition.pca import PCA\n",
    "import pylab as plt\n",
    "import numpy as np\n",
    "import sys\n",
    "import os\n",
    "import numpy as np # linear algebra\n",
    "import pandas as pd # data processing, CSV file I/O (e.g. pd.read_csv)\n",
    "\n",
    "from numpy.random import seed\n",
    "from sklearn.preprocessing import minmax_scale\n",
    "from sklearn.model_selection import train_test_split\n",
    "from keras.layers import Input, Dense\n",
    "from keras.models import Model\n"
   ]
  },
  {
   "cell_type": "markdown",
   "metadata": {},
   "source": [
    "# Method\n",
    "\n",
    "*Load and read data\n",
    "\n",
    "*Design autoencoder Model\n",
    "\n",
    "*Train Auto Encoder\n",
    "\n",
    "*Use Encoder level from Auto Encoder\n",
    "\n",
    "*Use Encoder to obtain reduced dimensionality data \n",
    "\n",
    "*Use decoder to obtain the reconstructed data "
   ]
  },
  {
   "cell_type": "code",
   "execution_count": 36,
   "metadata": {
    "collapsed": false
   },
   "outputs": [
    {
     "data": {
      "image/png": "[encoded data removed]",
      "text/plain": [
       "<Figure size 432x288 with 1 Axes>"
      ]
     },
     "metadata": {},
     "output_type": "display_data"
    }
   ],
   "source": [
    "# read data\n",
    "der1 = loadtxt('derivatives_all_epochs.dat').T\n",
    "plt.plot(der1[0,:])\n",
    "plt.show()"
   ]
  },
  {
   "cell_type": "code",
   "execution_count": 12,
   "metadata": {
    "collapsed": false
   },
   "outputs": [
    {
     "data": {
      "text/plain": [
       "array([[0.44553315, 0.43131641, 0.42477467, ..., 0.17794776, 0.2001597 ,\n",
       "        0.30509273],\n",
       "       [0.52486403, 0.57206232, 0.6471093 , ..., 0.19707591, 0.22421777,\n",
       "        0.34217618],\n",
       "       [0.53202716, 0.56985123, 0.63743313, ..., 0.19090622, 0.21986387,\n",
       "        0.34157339],\n",
       "       ...,\n",
       "       [0.50278944, 0.44346675, 0.38916569, ..., 0.19168508, 0.1512226 ,\n",
       "        0.19642402],\n",
       "       [0.40474287, 0.42636956, 0.46071532, ..., 0.17030293, 0.18984482,\n",
       "        0.29578761],\n",
       "       [0.47318716, 0.52624898, 0.54882663, ..., 0.14080449, 0.14300234,\n",
       "        0.21909689]])"
      ]
     },
     "execution_count": 12,
     "metadata": {},
     "output_type": "execute_result"
    }
   ],
   "source": [
    "\n",
    "# read data\n",
    "der = loadtxt('derivatives_all_epochs.dat')\n",
    "# define the number of features\n",
    "ncol = der.shape[1]\n",
    "#scaling \n",
    "train_scaled = minmax_scale(der, axis = 0)\n",
    "train_scaled"
   ]
  },
  {
   "cell_type": "code",
   "execution_count": 21,
   "metadata": {
    "collapsed": true
   },
   "outputs": [],
   "source": [
    "### Define the encoder dimension\n",
    "encoding_dim = 4\n",
    "#introducing an activation function\n",
    "activation = 'sigmoid'"
   ]
  },
  {
   "cell_type": "code",
   "execution_count": null,
   "metadata": {
    "collapsed": true
   },
   "outputs": [],
   "source": []
  },
  {
   "cell_type": "code",
   "execution_count": 22,
   "metadata": {
    "collapsed": false
   },
   "outputs": [],
   "source": [
    "X_train, X_test, Y_train, Y_test = train_test_split(der, der, train_size = 0.7, random_state = 1)\n",
    "#validation \n",
    "\n",
    "X_train, X_val, Y_train, Y_val = train_test_split(X_train, Y_train, train_size = 0.6, random_state = 1)"
   ]
  },
  {
   "cell_type": "code",
   "execution_count": 30,
   "metadata": {
    "collapsed": false
   },
   "outputs": [],
   "source": [
    "input_dim = Input(shape = (ncol, ))\n",
    "\n",
    "# Encoder Layers\n",
    "encoded1 = Dense(250, activation = activation)(input_dim)\n",
    "encoded2 = Dense(210, activation = activation)(encoded1)\n",
    "encoded3 = Dense(200, activation = activation)(encoded2)\n",
    "encoded4 = Dense(190, activation = activation)(encoded3)\n",
    "encoded5 = Dense(180, activation = activation)(encoded4)\n",
    "encoded6 = Dense(170, activation = activation)(encoded5)\n",
    "encoded7 = Dense(160, activation = activation)(encoded6)\n",
    "encoded8 = Dense(158, activation = activation)(encoded7)\n",
    "encoded9 = Dense(155, activation = activation)(encoded8)\n",
    "encoded_middle = Dense(encoding_dim, activation = 'sigmoid')(encoded9)\n",
    "\n",
    "# Decoder Layers\n",
    "decoded0 = Dense(155, activation = activation)(encoded_middle)\n",
    "decoded1 = Dense(158, activation = activation)(decoded0)\n",
    "decoded2 = Dense(160, activation = activation)(decoded1)\n",
    "decoded3 = Dense(170, activation = activation)(decoded2)\n",
    "decoded4 = Dense(180, activation = activation)(decoded3)\n",
    "decoded5 = Dense(190, activation = activation)(decoded4)\n",
    "decoded6 = Dense(200, activation = activation)(decoded5)\n",
    "decoded7 = Dense(210, activation = activation)(decoded6)\n",
    "decoded8 = Dense(250, activation = activation)(decoded7)\n",
    "decoded_out = Dense(ncol, activation = 'sigmoid')(decoded8)\n",
    "\n",
    "# Combine Encoder and Deocder layers\n",
    "autoencoder = Model(inputs = input_dim, outputs = decoded_out)\n",
    "#\n",
    "middle  = Model(inputs =input_dim, outputs = encoded_middle)\n",
    "\n",
    "\n",
    "# Compile the Model\n",
    "autoencoder.compile(optimizer = 'adam', loss = 'binary_crossentropy')   #'adadelta'\n",
    "\n",
    "#\n",
    "middle.compile(optimizer = 'adam', loss = 'binary_crossentropy')   #'adadelta'"
   ]
  },
  {
   "cell_type": "code",
   "execution_count": 31,
   "metadata": {
    "collapsed": false
   },
   "outputs": [
    {
     "name": "stdout",
     "output_type": "stream",
     "text": [
      "_________________________________________________________________\n",
      "Layer (type)                 Output Shape              Param #   \n",
      "=================================================================\n",
      "input_4 (InputLayer)         (None, 296)               0         \n",
      "_________________________________________________________________\n",
      "dense_61 (Dense)             (None, 250)               74250     \n",
      "_________________________________________________________________\n",
      "dense_62 (Dense)             (None, 210)               52710     \n",
      "_________________________________________________________________\n",
      "dense_63 (Dense)             (None, 200)               42200     \n",
      "_________________________________________________________________\n",
      "dense_64 (Dense)             (None, 190)               38190     \n",
      "_________________________________________________________________\n",
      "dense_65 (Dense)             (None, 180)               34380     \n",
      "_________________________________________________________________\n",
      "dense_66 (Dense)             (None, 170)               30770     \n",
      "_________________________________________________________________\n",
      "dense_67 (Dense)             (None, 160)               27360     \n",
      "_________________________________________________________________\n",
      "dense_68 (Dense)             (None, 158)               25438     \n",
      "_________________________________________________________________\n",
      "dense_69 (Dense)             (None, 155)               24645     \n",
      "_________________________________________________________________\n",
      "dense_70 (Dense)             (None, 4)                 624       \n",
      "_________________________________________________________________\n",
      "dense_71 (Dense)             (None, 155)               775       \n",
      "_________________________________________________________________\n",
      "dense_72 (Dense)             (None, 158)               24648     \n",
      "_________________________________________________________________\n",
      "dense_73 (Dense)             (None, 160)               25440     \n",
      "_________________________________________________________________\n",
      "dense_74 (Dense)             (None, 170)               27370     \n",
      "_________________________________________________________________\n",
      "dense_75 (Dense)             (None, 180)               30780     \n",
      "_________________________________________________________________\n",
      "dense_76 (Dense)             (None, 190)               34390     \n",
      "_________________________________________________________________\n",
      "dense_77 (Dense)             (None, 200)               38200     \n",
      "_________________________________________________________________\n",
      "dense_78 (Dense)             (None, 210)               42210     \n",
      "_________________________________________________________________\n",
      "dense_79 (Dense)             (None, 250)               52750     \n",
      "_________________________________________________________________\n",
      "dense_80 (Dense)             (None, 296)               74296     \n",
      "=================================================================\n",
      "Total params: 701,426\n",
      "Trainable params: 701,426\n",
      "Non-trainable params: 0\n",
      "_________________________________________________________________\n"
     ]
    }
   ],
   "source": [
    "#summary of the data\n",
    "\n",
    "autoencoder.summary()"
   ]
  },
  {
   "cell_type": "code",
   "execution_count": 32,
   "metadata": {
    "collapsed": false
   },
   "outputs": [
    {
     "name": "stderr",
     "output_type": "stream",
     "text": [
      "/usr/lib/python3/dist-packages/ipykernel/__main__.py:3: UserWarning: The `nb_epoch` argument in `fit` has been renamed `epochs`.\n",
      "  app.launch_new_instance()\n"
     ]
    },
    {
     "name": "stdout",
     "output_type": "stream",
     "text": [
      "Train on 1543 samples, validate on 1104 samples\n",
      "Epoch 1/10\n",
      "1543/1543 [==============================] - 3s 2ms/step - loss: 0.1257 - val_loss: 0.0048\n",
      "Epoch 2/10\n",
      "1543/1543 [==============================] - 2s 1ms/step - loss: 0.0037 - val_loss: 0.0027\n",
      "Epoch 3/10\n",
      "1543/1543 [==============================] - 2s 1ms/step - loss: 0.0024 - val_loss: 0.0018\n",
      "Epoch 4/10\n",
      "1543/1543 [==============================] - 2s 1ms/step - loss: 0.0015 - val_loss: 9.6542e-04\n",
      "Epoch 5/10\n",
      "1543/1543 [==============================] - 2s 1ms/step - loss: 7.4763e-04 - val_loss: 2.1855e-04\n",
      "Epoch 6/10\n",
      "1543/1543 [==============================] - 2s 1ms/step - loss: -2.7003e-06 - val_loss: -5.3848e-04\n",
      "Epoch 7/10\n",
      "1543/1543 [==============================] - 2s 1ms/step - loss: -7.6028e-04 - val_loss: -0.0013\n",
      "Epoch 8/10\n",
      "1543/1543 [==============================] - 2s 1ms/step - loss: -0.0014 - val_loss: -0.0019\n",
      "Epoch 9/10\n",
      "1543/1543 [==============================] - 2s 1ms/step - loss: -0.0020 - val_loss: -0.0024\n",
      "Epoch 10/10\n",
      "1543/1543 [==============================] - 2s 1ms/step - loss: -0.0024 - val_loss: -0.0028\n"
     ]
    },
    {
     "data": {
      "text/plain": [
       "<keras.callbacks.History at 0x7f7d785d50f0>"
      ]
     },
     "execution_count": 32,
     "metadata": {},
     "output_type": "execute_result"
    }
   ],
   "source": [
    "#Train Auto Encoder\n",
    "\n",
    "autoencoder.fit(X_train, X_train, nb_epoch = 10, validation_data = (X_test, X_test))\n"
   ]
  },
  {
   "cell_type": "code",
   "execution_count": 33,
   "metadata": {
    "collapsed": false
   },
   "outputs": [
    {
     "name": "stdout",
     "output_type": "stream",
     "text": [
      "(3677, 4) [[0.6288946  0.3451192  0.8059877  0.08919115]\n",
      " [0.6288946  0.3451192  0.8059878  0.08919117]\n",
      " [0.6288946  0.3451192  0.8059878  0.08919119]\n",
      " ...\n",
      " [0.6288946  0.34511927 0.8059877  0.08919117]\n",
      " [0.6288946  0.3451192  0.8059878  0.08919115]\n",
      " [0.6288946  0.34511927 0.8059877  0.08919115]]\n"
     ]
    }
   ],
   "source": [
    "#reduced data and its shape \n",
    "\n",
    "reduced_data150D=middle.predict(der)\n",
    "print(reduced_data150D.shape,reduced_data150D)"
   ]
  },
  {
   "cell_type": "code",
   "execution_count": 34,
   "metadata": {
    "collapsed": false
   },
   "outputs": [
    {
     "name": "stdout",
     "output_type": "stream",
     "text": [
      "[[0.00083838 0.00239634 0.00362627 ... 0.00033576 0.00019729 0.00037359]\n",
      " [0.00083838 0.00239634 0.00362627 ... 0.00033576 0.00019729 0.00037359]\n",
      " [0.00083838 0.00239634 0.00362627 ... 0.00033576 0.00019729 0.00037359]\n",
      " ...\n",
      " [0.00083838 0.00239634 0.00362627 ... 0.00033576 0.00019729 0.00037359]\n",
      " [0.00083838 0.00239634 0.00362627 ... 0.00033576 0.00019729 0.00037359]\n",
      " [0.00083838 0.00239634 0.00362627 ... 0.00033576 0.00019729 0.00037359]]\n"
     ]
    }
   ],
   "source": [
    "#recontracted data and its shape\n",
    "reconstructed150 = autoencoder.predict(der)\n",
    "print(reconstructed150)"
   ]
  },
  {
   "cell_type": "code",
   "execution_count": 35,
   "metadata": {
    "collapsed": false
   },
   "outputs": [
    {
     "data": {
      "image/png": "[encoded data removed]",
      "text/plain": [
       "<Figure size 432x288 with 1 Axes>"
      ]
     },
     "metadata": {},
     "output_type": "display_data"
    }
   ],
   "source": [
    "plt.plot(der[0,:],label='original')\n",
    "plt.plot(reconstructed150[0,:],label='reconstructed')\n",
    "plt.legend()\n",
    "plt.show()"
   ]
  },
  {
   "cell_type": "code",
   "execution_count": null,
   "metadata": {
    "collapsed": true
   },
   "outputs": [],
   "source": []
  },
  {
   "cell_type": "code",
   "execution_count": null,
   "metadata": {
    "collapsed": true
   },
   "outputs": [],
   "source": []
  }
 ],
 "metadata": {
  "kernelspec": {
   "display_name": "Python 3",
   "language": "python",
   "name": "python3"
  },
  "language_info": {
   "codemirror_mode": {
    "name": "ipython",
    "version": 3
   },
   "file_extension": ".py",
   "mimetype": "text/x-python",
   "name": "python",
   "nbconvert_exporter": "python",
   "pygments_lexer": "ipython3",
   "version": "3.5.3"
  }
 },
 "nbformat": 4,
 "nbformat_minor": 2
}
