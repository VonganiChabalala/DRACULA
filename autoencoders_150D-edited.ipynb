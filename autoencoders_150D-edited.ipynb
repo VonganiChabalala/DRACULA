{
 "cells": [
  {
   "cell_type": "code",
   "execution_count": 47,
   "metadata": {
    "collapsed": false
   },
   "outputs": [],
   "source": [
    "import numpy as np\n",
    "import matplotlib.pyplot as plt\n",
    "import sys\n",
    "import os\n",
    "from sklearn.preprocessing import minmax_scale\n",
    "from sklearn.model_selection import train_test_split\n",
    "from keras.layers import Input, Dense\n",
    "from keras.models import Model"
   ]
  },
  {
   "cell_type": "code",
   "execution_count": 48,
   "metadata": {
    "collapsed": true
   },
   "outputs": [],
   "source": [
    "np.random.seed(1)"
   ]
  },
  {
   "cell_type": "code",
   "execution_count": 49,
   "metadata": {
    "collapsed": true
   },
   "outputs": [],
   "source": [
    "# read data\n",
    "der = np.loadtxt('derivatives_all_epochs.dat')\n",
    "# define the number of features\n",
    "ncol = der.shape[1]\n",
    "#scaling \n",
    "train_scaled = minmax_scale(der, axis = 0)"
   ]
  },
  {
   "cell_type": "code",
   "execution_count": 50,
   "metadata": {
    "collapsed": true
   },
   "outputs": [],
   "source": [
    "### Define the encoder dimension\n",
    "encoding_dim = 4\n",
    "#introducing an activation function\n",
    "activation = 'relu'"
   ]
  },
  {
   "cell_type": "code",
   "execution_count": 51,
   "metadata": {
    "collapsed": false
   },
   "outputs": [
    {
     "data": {
      "text/plain": [
       "(3677, 296)"
      ]
     },
     "execution_count": 51,
     "metadata": {},
     "output_type": "execute_result"
    }
   ],
   "source": [
    "train_scaled.shape"
   ]
  },
  {
   "cell_type": "code",
   "execution_count": 52,
   "metadata": {
    "collapsed": true
   },
   "outputs": [],
   "source": [
    "X_train, X_test, Y_train, Y_test = train_test_split(train_scaled, train_scaled, train_size = 0.96, random_state = 1)\n",
    "\n",
    "X_train, X_val, Y_train, Y_val = train_test_split(X_train, Y_train, train_size = 0.96, random_state = 1)"
   ]
  },
  {
   "cell_type": "code",
   "execution_count": null,
   "metadata": {
    "collapsed": true
   },
   "outputs": [],
   "source": []
  },
  {
   "cell_type": "code",
   "execution_count": 53,
   "metadata": {
    "collapsed": true
   },
   "outputs": [],
   "source": [
    "input_dim = Input(shape = (ncol, ))\n",
    "\n",
    "# Encoder Layers\n",
    "encoded1 = Dense(250, activation = activation)(input_dim)\n",
    "encoded2 = Dense(150, activation = activation)(encoded1)\n",
    "encoded3 = Dense(120, activation = activation)(encoded2)\n",
    "encoded4 = Dense(100, activation = activation)(encoded3)\n",
    "encoded5 = Dense(70, activation = activation)(encoded4)\n",
    "encoded6 = Dense(50, activation = activation)(encoded5)\n",
    "encoded7 = Dense(35, activation = activation)(encoded6)\n",
    "encoded8 = Dense(24, activation = activation)(encoded7)\n",
    "encoded9 = Dense(8, activation = activation)(encoded8)\n",
    "encoded_middle = Dense(encoding_dim, activation = 'sigmoid')(encoded9)\n",
    "\n",
    "# Decoder Layers\n",
    "decoded0 = Dense(8, activation = activation)(encoded_middle)\n",
    "decoded1 = Dense(24, activation = activation)(decoded0)\n",
    "decoded2 = Dense(35, activation = activation)(decoded1)\n",
    "decoded3 = Dense(50, activation = activation)(decoded2)\n",
    "decoded4 = Dense(70, activation = activation)(decoded3)\n",
    "decoded5 = Dense(100, activation = activation)(decoded4)\n",
    "decoded6 = Dense(120, activation = activation)(decoded5)\n",
    "decoded7 = Dense(150, activation = activation)(decoded6)\n",
    "decoded8 = Dense(250, activation = activation)(decoded7)\n",
    "decoded_out = Dense(ncol, activation = 'sigmoid')(decoded8)\n",
    "\n",
    "# this model maps an input to its reconstruction\n",
    "autoencoder = Model(inputs = input_dim, outputs = decoded_out)\n",
    "\n",
    "# this model maps an input to its encoded representation\n",
    "middle  = Model(inputs =input_dim, outputs = encoded_middle)\n",
    "\n",
    "# Compile the Model\n",
    "autoencoder.compile(optimizer = 'adadelta', loss = 'binary_crossentropy', metrics=['accuracy'])\n",
    "\n",
    "middle.compile(optimizer = 'adadelta', loss = 'binary_crossentropy', metrics=['accuracy'])"
   ]
  },
  {
   "cell_type": "code",
   "execution_count": 54,
   "metadata": {
    "collapsed": false
   },
   "outputs": [
    {
     "name": "stdout",
     "output_type": "stream",
     "text": [
      "_________________________________________________________________\n",
      "Layer (type)                 Output Shape              Param #   \n",
      "=================================================================\n",
      "input_4 (InputLayer)         (None, 296)               0         \n",
      "_________________________________________________________________\n",
      "dense_61 (Dense)             (None, 250)               74250     \n",
      "_________________________________________________________________\n",
      "dense_62 (Dense)             (None, 150)               37650     \n",
      "_________________________________________________________________\n",
      "dense_63 (Dense)             (None, 120)               18120     \n",
      "_________________________________________________________________\n",
      "dense_64 (Dense)             (None, 100)               12100     \n",
      "_________________________________________________________________\n",
      "dense_65 (Dense)             (None, 70)                7070      \n",
      "_________________________________________________________________\n",
      "dense_66 (Dense)             (None, 50)                3550      \n",
      "_________________________________________________________________\n",
      "dense_67 (Dense)             (None, 35)                1785      \n",
      "_________________________________________________________________\n",
      "dense_68 (Dense)             (None, 24)                864       \n",
      "_________________________________________________________________\n",
      "dense_69 (Dense)             (None, 8)                 200       \n",
      "_________________________________________________________________\n",
      "dense_70 (Dense)             (None, 4)                 36        \n",
      "_________________________________________________________________\n",
      "dense_71 (Dense)             (None, 8)                 40        \n",
      "_________________________________________________________________\n",
      "dense_72 (Dense)             (None, 24)                216       \n",
      "_________________________________________________________________\n",
      "dense_73 (Dense)             (None, 35)                875       \n",
      "_________________________________________________________________\n",
      "dense_74 (Dense)             (None, 50)                1800      \n",
      "_________________________________________________________________\n",
      "dense_75 (Dense)             (None, 70)                3570      \n",
      "_________________________________________________________________\n",
      "dense_76 (Dense)             (None, 100)               7100      \n",
      "_________________________________________________________________\n",
      "dense_77 (Dense)             (None, 120)               12120     \n",
      "_________________________________________________________________\n",
      "dense_78 (Dense)             (None, 150)               18150     \n",
      "_________________________________________________________________\n",
      "dense_79 (Dense)             (None, 250)               37750     \n",
      "_________________________________________________________________\n",
      "dense_80 (Dense)             (None, 296)               74296     \n",
      "=================================================================\n",
      "Total params: 311,542\n",
      "Trainable params: 311,542\n",
      "Non-trainable params: 0\n",
      "_________________________________________________________________\n"
     ]
    }
   ],
   "source": [
    "#summary of the data\n",
    "\n",
    "autoencoder.summary()"
   ]
  },
  {
   "cell_type": "code",
   "execution_count": 55,
   "metadata": {
    "collapsed": false
   },
   "outputs": [
    {
     "name": "stderr",
     "output_type": "stream",
     "text": [
      "/usr/lib/python3/dist-packages/ipykernel/__main__.py:4: UserWarning: The `nb_epoch` argument in `fit` has been renamed `epochs`.\n"
     ]
    },
    {
     "name": "stdout",
     "output_type": "stream",
     "text": [
      "Train on 3387 samples, validate on 142 samples\n",
      "Epoch 1/100\n",
      "3387/3387 [==============================] - 3s 991us/step - loss: 0.6907 - acc: 2.7929e-04 - val_loss: 0.6879 - val_acc: 1.4275e-04\n",
      "Epoch 2/100\n",
      "3387/3387 [==============================] - 3s 1ms/step - loss: 0.6841 - acc: 2.7629e-04 - val_loss: 0.6787 - val_acc: 1.6654e-04\n",
      "Epoch 3/100\n",
      "3387/3387 [==============================] - 3s 987us/step - loss: 0.6750 - acc: 2.6333e-04 - val_loss: 0.6727 - val_acc: 1.6654e-04\n",
      "Epoch 4/100\n",
      "3387/3387 [==============================] - 3s 891us/step - loss: 0.6727 - acc: 2.7031e-04 - val_loss: 0.6723 - val_acc: 1.9033e-04\n",
      "Epoch 5/100\n",
      "3387/3387 [==============================] - 3s 806us/step - loss: 0.6726 - acc: 2.6832e-04 - val_loss: 0.6722 - val_acc: 1.9033e-04\n",
      "Epoch 6/100\n",
      "3387/3387 [==============================] - 2s 727us/step - loss: 0.6726 - acc: 2.6732e-04 - val_loss: 0.6722 - val_acc: 1.9033e-04\n",
      "Epoch 7/100\n",
      "3387/3387 [==============================] - 3s 794us/step - loss: 0.6725 - acc: 2.7231e-04 - val_loss: 0.6722 - val_acc: 1.9033e-04\n",
      "Epoch 8/100\n",
      "3387/3387 [==============================] - 3s 1ms/step - loss: 0.6725 - acc: 2.6931e-04 - val_loss: 0.6722 - val_acc: 1.9033e-04\n",
      "Epoch 9/100\n",
      "3387/3387 [==============================] - 4s 1ms/step - loss: 0.6725 - acc: 2.7031e-04 - val_loss: 0.6722 - val_acc: 1.9033e-04\n",
      "Epoch 10/100\n",
      "3387/3387 [==============================] - 3s 1ms/step - loss: 0.6725 - acc: 2.6931e-04 - val_loss: 0.6722 - val_acc: 1.9033e-04\n",
      "Epoch 11/100\n",
      "3387/3387 [==============================] - 3s 870us/step - loss: 0.6725 - acc: 2.6931e-04 - val_loss: 0.6722 - val_acc: 1.9033e-04\n",
      "Epoch 12/100\n",
      "3387/3387 [==============================] - 2s 650us/step - loss: 0.6724 - acc: 2.7131e-04 - val_loss: 0.6721 - val_acc: 1.9033e-04\n",
      "Epoch 13/100\n",
      "3387/3387 [==============================] - 2s 604us/step - loss: 0.6724 - acc: 2.6931e-04 - val_loss: 0.6721 - val_acc: 1.9033e-04\n",
      "Epoch 14/100\n",
      "3387/3387 [==============================] - 2s 549us/step - loss: 0.6722 - acc: 2.7031e-04 - val_loss: 0.6719 - val_acc: 1.9033e-04\n",
      "Epoch 15/100\n",
      "3387/3387 [==============================] - 2s 562us/step - loss: 0.6720 - acc: 2.6832e-04 - val_loss: 0.6716 - val_acc: 1.9033e-04\n",
      "Epoch 16/100\n",
      "3387/3387 [==============================] - 2s 656us/step - loss: 0.6715 - acc: 2.7231e-04 - val_loss: 0.6709 - val_acc: 1.9033e-04\n",
      "Epoch 17/100\n",
      "3387/3387 [==============================] - 3s 785us/step - loss: 0.6705 - acc: 2.7330e-04 - val_loss: 0.6698 - val_acc: 2.3791e-04\n",
      "Epoch 18/100\n",
      "3387/3387 [==============================] - 2s 698us/step - loss: 0.6691 - acc: 2.8826e-04 - val_loss: 0.6687 - val_acc: 3.5687e-04\n",
      "Epoch 19/100\n",
      "3387/3387 [==============================] - 3s 826us/step - loss: 0.6680 - acc: 2.9225e-04 - val_loss: 0.6674 - val_acc: 3.5687e-04\n",
      "Epoch 20/100\n",
      "3387/3387 [==============================] - 3s 905us/step - loss: 0.6667 - acc: 3.0023e-04 - val_loss: 0.6659 - val_acc: 3.5687e-04\n",
      "Epoch 21/100\n",
      "3387/3387 [==============================] - 2s 719us/step - loss: 0.6651 - acc: 3.0722e-04 - val_loss: 0.6640 - val_acc: 3.0929e-04\n",
      "Epoch 22/100\n",
      "3387/3387 [==============================] - 2s 569us/step - loss: 0.6637 - acc: 3.1121e-04 - val_loss: 0.6622 - val_acc: 3.5687e-04\n",
      "Epoch 23/100\n",
      "3387/3387 [==============================] - 3s 749us/step - loss: 0.6627 - acc: 3.2318e-04 - val_loss: 0.6614 - val_acc: 3.8066e-04\n",
      "Epoch 24/100\n",
      "3387/3387 [==============================] - 3s 818us/step - loss: 0.6620 - acc: 3.1819e-04 - val_loss: 0.6607 - val_acc: 3.5687e-04\n",
      "Epoch 25/100\n",
      "3387/3387 [==============================] - 3s 792us/step - loss: 0.6618 - acc: 3.2318e-04 - val_loss: 0.6621 - val_acc: 3.5687e-04\n",
      "Epoch 26/100\n",
      "3387/3387 [==============================] - 2s 670us/step - loss: 0.6617 - acc: 3.2318e-04 - val_loss: 0.6634 - val_acc: 3.0929e-04\n",
      "Epoch 27/100\n",
      "3387/3387 [==============================] - 2s 591us/step - loss: 0.6614 - acc: 3.2916e-04 - val_loss: 0.6614 - val_acc: 3.5687e-04\n",
      "Epoch 28/100\n",
      "3387/3387 [==============================] - 2s 633us/step - loss: 0.6614 - acc: 3.3115e-04 - val_loss: 0.6604 - val_acc: 3.5687e-04\n",
      "Epoch 29/100\n",
      "3387/3387 [==============================] - 2s 692us/step - loss: 0.6614 - acc: 3.3115e-04 - val_loss: 0.6601 - val_acc: 3.3308e-04\n",
      "Epoch 30/100\n",
      "3387/3387 [==============================] - 2s 650us/step - loss: 0.6611 - acc: 3.3315e-04 - val_loss: 0.6605 - val_acc: 3.3308e-04\n",
      "Epoch 31/100\n",
      "3387/3387 [==============================] - 3s 773us/step - loss: 0.6612 - acc: 3.3315e-04 - val_loss: 0.6599 - val_acc: 4.0445e-04\n",
      "Epoch 32/100\n",
      "3387/3387 [==============================] - 3s 812us/step - loss: 0.6610 - acc: 3.3016e-04 - val_loss: 0.6607 - val_acc: 3.3308e-04\n",
      "Epoch 33/100\n",
      "3387/3387 [==============================] - 3s 810us/step - loss: 0.6610 - acc: 3.3016e-04 - val_loss: 0.6602 - val_acc: 3.5687e-04\n",
      "Epoch 34/100\n",
      "3387/3387 [==============================] - 3s 810us/step - loss: 0.6609 - acc: 3.2816e-04 - val_loss: 0.6598 - val_acc: 3.3308e-04\n",
      "Epoch 35/100\n",
      "3387/3387 [==============================] - 3s 770us/step - loss: 0.6608 - acc: 3.3415e-04 - val_loss: 0.6595 - val_acc: 3.5687e-04\n",
      "Epoch 36/100\n",
      "3387/3387 [==============================] - 3s 942us/step - loss: 0.6606 - acc: 3.4013e-04 - val_loss: 0.6596 - val_acc: 4.0445e-04\n",
      "Epoch 37/100\n",
      "3387/3387 [==============================] - 3s 941us/step - loss: 0.6607 - acc: 3.4013e-04 - val_loss: 0.6604 - val_acc: 3.0929e-04\n",
      "Epoch 38/100\n",
      "3387/3387 [==============================] - 3s 955us/step - loss: 0.6605 - acc: 3.4213e-04 - val_loss: 0.6594 - val_acc: 4.0445e-04\n",
      "Epoch 39/100\n",
      "3387/3387 [==============================] - 4s 1ms/step - loss: 0.6605 - acc: 3.4013e-04 - val_loss: 0.6593 - val_acc: 3.3308e-04\n",
      "Epoch 40/100\n",
      "3387/3387 [==============================] - 4s 1ms/step - loss: 0.6603 - acc: 3.4312e-04 - val_loss: 0.6593 - val_acc: 3.3308e-04\n",
      "Epoch 41/100\n",
      "3387/3387 [==============================] - 4s 1ms/step - loss: 0.6603 - acc: 3.5110e-04 - val_loss: 0.6589 - val_acc: 3.3308e-04\n",
      "Epoch 42/100\n",
      "3387/3387 [==============================] - 4s 1ms/step - loss: 0.6601 - acc: 3.5011e-04 - val_loss: 0.6590 - val_acc: 3.3308e-04\n",
      "Epoch 43/100\n",
      "3387/3387 [==============================] - 5s 1ms/step - loss: 0.6600 - acc: 3.4612e-04 - val_loss: 0.6588 - val_acc: 4.0445e-04\n",
      "Epoch 44/100\n",
      "3387/3387 [==============================] - 5s 1ms/step - loss: 0.6599 - acc: 3.5709e-04 - val_loss: 0.6586 - val_acc: 3.8066e-04\n",
      "Epoch 45/100\n",
      "3387/3387 [==============================] - 4s 1ms/step - loss: 0.6598 - acc: 3.5410e-04 - val_loss: 0.6585 - val_acc: 3.3308e-04\n",
      "Epoch 46/100\n",
      "3387/3387 [==============================] - 4s 1ms/step - loss: 0.6596 - acc: 3.5809e-04 - val_loss: 0.6584 - val_acc: 3.3308e-04\n",
      "Epoch 47/100\n",
      "3387/3387 [==============================] - 3s 1ms/step - loss: 0.6596 - acc: 3.5210e-04 - val_loss: 0.6605 - val_acc: 3.0929e-04\n",
      "Epoch 48/100\n",
      "3387/3387 [==============================] - 6s 2ms/step - loss: 0.6595 - acc: 3.5709e-04 - val_loss: 0.6580 - val_acc: 3.8066e-04\n",
      "Epoch 49/100\n",
      "3387/3387 [==============================] - 5s 1ms/step - loss: 0.6594 - acc: 3.6507e-04 - val_loss: 0.6579 - val_acc: 3.5687e-04\n",
      "Epoch 50/100\n",
      "3387/3387 [==============================] - 5s 1ms/step - loss: 0.6593 - acc: 3.6108e-04 - val_loss: 0.6580 - val_acc: 3.8066e-04\n",
      "Epoch 51/100\n",
      "3387/3387 [==============================] - 5s 2ms/step - loss: 0.6592 - acc: 3.6008e-04 - val_loss: 0.6577 - val_acc: 3.5687e-04\n",
      "Epoch 52/100\n",
      "3387/3387 [==============================] - 5s 1ms/step - loss: 0.6591 - acc: 3.7105e-04 - val_loss: 0.6577 - val_acc: 3.8066e-04\n",
      "Epoch 53/100\n",
      "3387/3387 [==============================] - 6s 2ms/step - loss: 0.6591 - acc: 3.6307e-04 - val_loss: 0.6586 - val_acc: 4.0445e-04\n",
      "Epoch 54/100\n",
      "3387/3387 [==============================] - 5s 1ms/step - loss: 0.6591 - acc: 3.6906e-04 - val_loss: 0.6584 - val_acc: 3.8066e-04\n",
      "Epoch 55/100\n",
      "3387/3387 [==============================] - 4s 1ms/step - loss: 0.6589 - acc: 3.6806e-04 - val_loss: 0.6577 - val_acc: 3.8066e-04\n",
      "Epoch 56/100\n",
      "3387/3387 [==============================] - 5s 1ms/step - loss: 0.6588 - acc: 3.6108e-04 - val_loss: 0.6574 - val_acc: 3.8066e-04\n",
      "Epoch 57/100\n",
      "3387/3387 [==============================] - 5s 1ms/step - loss: 0.6589 - acc: 3.6407e-04 - val_loss: 0.6574 - val_acc: 4.0445e-04\n",
      "Epoch 58/100\n",
      "3387/3387 [==============================] - 5s 1ms/step - loss: 0.6588 - acc: 3.6607e-04 - val_loss: 0.6573 - val_acc: 3.8066e-04\n",
      "Epoch 59/100\n",
      "3387/3387 [==============================] - 5s 1ms/step - loss: 0.6587 - acc: 3.5908e-04 - val_loss: 0.6573 - val_acc: 3.8066e-04\n",
      "Epoch 60/100\n",
      "3387/3387 [==============================] - 4s 1ms/step - loss: 0.6586 - acc: 3.6208e-04 - val_loss: 0.6573 - val_acc: 3.8066e-04\n",
      "Epoch 61/100\n",
      "3387/3387 [==============================] - 4s 1ms/step - loss: 0.6587 - acc: 3.6906e-04 - val_loss: 0.6578 - val_acc: 3.3308e-04\n",
      "Epoch 62/100\n",
      "3387/3387 [==============================] - 5s 1ms/step - loss: 0.6587 - acc: 3.7006e-04 - val_loss: 0.6577 - val_acc: 3.3308e-04\n",
      "Epoch 63/100\n",
      "3387/3387 [==============================] - 4s 1ms/step - loss: 0.6586 - acc: 3.6706e-04 - val_loss: 0.6574 - val_acc: 4.0445e-04\n",
      "Epoch 64/100\n",
      "3387/3387 [==============================] - 4s 1ms/step - loss: 0.6586 - acc: 3.6507e-04 - val_loss: 0.6571 - val_acc: 4.0445e-04\n",
      "Epoch 65/100\n",
      "3387/3387 [==============================] - 4s 1ms/step - loss: 0.6584 - acc: 3.6607e-04 - val_loss: 0.6577 - val_acc: 4.0445e-04\n",
      "Epoch 66/100\n",
      "3387/3387 [==============================] - 4s 1ms/step - loss: 0.6586 - acc: 3.6806e-04 - val_loss: 0.6576 - val_acc: 4.0445e-04\n",
      "Epoch 67/100\n",
      "3387/3387 [==============================] - 4s 1ms/step - loss: 0.6586 - acc: 3.7305e-04 - val_loss: 0.6578 - val_acc: 3.8066e-04\n",
      "Epoch 68/100\n",
      "3387/3387 [==============================] - 4s 1ms/step - loss: 0.6585 - acc: 3.6507e-04 - val_loss: 0.6570 - val_acc: 4.0445e-04\n",
      "Epoch 69/100\n",
      "3387/3387 [==============================] - 4s 1ms/step - loss: 0.6584 - acc: 3.6906e-04 - val_loss: 0.6569 - val_acc: 4.0445e-04\n",
      "Epoch 70/100\n",
      "3387/3387 [==============================] - 4s 1ms/step - loss: 0.6583 - acc: 3.7006e-04 - val_loss: 0.6569 - val_acc: 4.0445e-04\n",
      "Epoch 71/100\n",
      "3387/3387 [==============================] - 4s 1ms/step - loss: 0.6584 - acc: 3.6906e-04 - val_loss: 0.6583 - val_acc: 4.0445e-04\n",
      "Epoch 72/100\n",
      "3387/3387 [==============================] - 4s 1ms/step - loss: 0.6583 - acc: 3.7105e-04 - val_loss: 0.6567 - val_acc: 4.0445e-04\n",
      "Epoch 73/100\n",
      "3387/3387 [==============================] - 4s 1ms/step - loss: 0.6583 - acc: 3.6806e-04 - val_loss: 0.6567 - val_acc: 4.0445e-04\n",
      "Epoch 74/100\n",
      "3387/3387 [==============================] - 4s 1ms/step - loss: 0.6583 - acc: 3.6307e-04 - val_loss: 0.6571 - val_acc: 4.0445e-04\n",
      "Epoch 75/100\n",
      "3387/3387 [==============================] - 4s 1ms/step - loss: 0.6582 - acc: 3.7006e-04 - val_loss: 0.6566 - val_acc: 4.0445e-04\n",
      "Epoch 76/100\n",
      "3387/3387 [==============================] - 4s 1ms/step - loss: 0.6582 - acc: 3.7405e-04 - val_loss: 0.6568 - val_acc: 4.0445e-04\n",
      "Epoch 77/100\n",
      "3387/3387 [==============================] - 4s 1ms/step - loss: 0.6582 - acc: 3.7405e-04 - val_loss: 0.6567 - val_acc: 4.0445e-04\n",
      "Epoch 78/100\n",
      "3387/3387 [==============================] - 4s 1ms/step - loss: 0.6581 - acc: 3.7604e-04 - val_loss: 0.6567 - val_acc: 4.0445e-04\n",
      "Epoch 79/100\n",
      "3387/3387 [==============================] - 4s 1ms/step - loss: 0.6583 - acc: 3.7006e-04 - val_loss: 0.6565 - val_acc: 4.0445e-04\n",
      "Epoch 80/100\n",
      "3387/3387 [==============================] - 5s 1ms/step - loss: 0.6581 - acc: 3.6507e-04 - val_loss: 0.6578 - val_acc: 4.0445e-04\n",
      "Epoch 81/100\n",
      "3387/3387 [==============================] - 5s 1ms/step - loss: 0.6580 - acc: 3.8003e-04 - val_loss: 0.6567 - val_acc: 4.0445e-04\n",
      "Epoch 82/100\n",
      "3387/3387 [==============================] - 5s 1ms/step - loss: 0.6579 - acc: 3.7704e-04 - val_loss: 0.6563 - val_acc: 4.0445e-04\n",
      "Epoch 83/100\n",
      "3387/3387 [==============================] - 4s 1ms/step - loss: 0.6580 - acc: 3.7405e-04 - val_loss: 0.6567 - val_acc: 4.0445e-04\n",
      "Epoch 84/100\n",
      "3387/3387 [==============================] - 5s 1ms/step - loss: 0.6579 - acc: 3.7704e-04 - val_loss: 0.6564 - val_acc: 4.0445e-04\n",
      "Epoch 85/100\n",
      "3387/3387 [==============================] - 5s 1ms/step - loss: 0.6581 - acc: 3.7006e-04 - val_loss: 0.6571 - val_acc: 4.0445e-04\n",
      "Epoch 86/100\n",
      "3387/3387 [==============================] - 5s 2ms/step - loss: 0.6579 - acc: 3.7504e-04 - val_loss: 0.6575 - val_acc: 4.0445e-04\n",
      "Epoch 87/100\n",
      "3387/3387 [==============================] - 5s 1ms/step - loss: 0.6577 - acc: 3.8003e-04 - val_loss: 0.6565 - val_acc: 4.0445e-04\n",
      "Epoch 88/100\n",
      "3387/3387 [==============================] - 4s 1ms/step - loss: 0.6578 - acc: 3.7205e-04 - val_loss: 0.6563 - val_acc: 4.0445e-04\n",
      "Epoch 89/100\n",
      "3387/3387 [==============================] - 5s 1ms/step - loss: 0.6579 - acc: 3.8103e-04 - val_loss: 0.6560 - val_acc: 4.0445e-04\n",
      "Epoch 90/100\n",
      "3387/3387 [==============================] - 4s 1ms/step - loss: 0.6580 - acc: 3.8003e-04 - val_loss: 0.6562 - val_acc: 4.0445e-04\n",
      "Epoch 91/100\n",
      "3387/3387 [==============================] - 4s 1ms/step - loss: 0.6577 - acc: 3.7006e-04 - val_loss: 0.6561 - val_acc: 4.0445e-04\n",
      "Epoch 92/100\n",
      "3387/3387 [==============================] - 5s 1ms/step - loss: 0.6577 - acc: 3.6806e-04 - val_loss: 0.6560 - val_acc: 4.0445e-04\n",
      "Epoch 93/100\n",
      "3387/3387 [==============================] - 5s 1ms/step - loss: 0.6576 - acc: 3.7504e-04 - val_loss: 0.6565 - val_acc: 4.0445e-04\n",
      "Epoch 94/100\n",
      "3387/3387 [==============================] - 4s 1ms/step - loss: 0.6576 - acc: 3.8402e-04 - val_loss: 0.6595 - val_acc: 3.3308e-04\n",
      "Epoch 95/100\n",
      "3387/3387 [==============================] - 5s 1ms/step - loss: 0.6578 - acc: 3.8801e-04 - val_loss: 0.6559 - val_acc: 4.0445e-04\n",
      "Epoch 96/100\n",
      "3387/3387 [==============================] - 5s 1ms/step - loss: 0.6575 - acc: 3.8402e-04 - val_loss: 0.6568 - val_acc: 4.0445e-04\n",
      "Epoch 97/100\n",
      "3387/3387 [==============================] - 5s 1ms/step - loss: 0.6576 - acc: 3.7604e-04 - val_loss: 0.6557 - val_acc: 4.0445e-04\n",
      "Epoch 98/100\n",
      "3387/3387 [==============================] - 5s 1ms/step - loss: 0.6577 - acc: 3.8203e-04 - val_loss: 0.6560 - val_acc: 4.0445e-04\n",
      "Epoch 99/100\n",
      "3387/3387 [==============================] - 5s 1ms/step - loss: 0.6575 - acc: 3.8601e-04 - val_loss: 0.6560 - val_acc: 4.0445e-04\n",
      "Epoch 100/100\n",
      "3387/3387 [==============================] - 5s 1ms/step - loss: 0.6574 - acc: 3.8402e-04 - val_loss: 0.6561 - val_acc: 4.0445e-04\n"
     ]
    }
   ],
   "source": [
    "from keras.callbacks import TensorBoard\n",
    "\n",
    "history = autoencoder.fit(X_train, X_train, nb_epoch = 100, validation_data = (X_val, X_val), \n",
    "                callbacks=[TensorBoard(log_dir='/tmp/autoencoder', histogram_freq=0, write_graph=False)])\n"
   ]
  },
  {
   "cell_type": "code",
   "execution_count": 56,
   "metadata": {
    "collapsed": false
   },
   "outputs": [
    {
     "data": {
      "image/png": "[encoded data removed]",
      "text/plain": [
       "<Figure size 432x288 with 1 Axes>"
      ]
     },
     "metadata": {},
     "output_type": "display_data"
    }
   ],
   "source": [
    "import matplotlib.pyplot as plt\n",
    "# plot epoch versus loss\n",
    "plt.plot(history.history['loss'], label='train')\n",
    "plt.plot(history.history['val_loss'], label='val')\n",
    "plt.xlabel('epoch')\n",
    "plt.ylabel('loss')\n",
    "plt.legend()\n",
    "plt.show()"
   ]
  },
  {
   "cell_type": "code",
   "execution_count": 57,
   "metadata": {
    "collapsed": false
   },
   "outputs": [
    {
     "data": {
      "image/png": "[encoded data removed]",
      "text/plain": [
       "<Figure size 432x288 with 1 Axes>"
      ]
     },
     "metadata": {},
     "output_type": "display_data"
    }
   ],
   "source": [
    "import matplotlib.pyplot as plt\n",
    "# plot epoch versus accuracy\n",
    "plt.plot(history.history['acc'], label='train')\n",
    "plt.plot(history.history['val_acc'], label='val')\n",
    "plt.xlabel('epoch')\n",
    "plt.ylabel('accuracy')\n",
    "plt.legend()\n",
    "plt.show()"
   ]
  },
  {
   "cell_type": "code",
   "execution_count": 58,
   "metadata": {
    "collapsed": false
   },
   "outputs": [
    {
     "name": "stdout",
     "output_type": "stream",
     "text": [
      "(148, 4) [[0.46153048 0.5168272  0.48290652 0.49364033]\n",
      " [0.6426843  0.00789961 0.99999166 0.9999968 ]\n",
      " [0.36510345 0.21340877 0.97050357 0.9822297 ]\n",
      " [0.42836884 0.37272012 0.8087345  0.8422807 ]\n",
      " [0.48240888 0.02386365 0.9999008  0.99996054]\n",
      " [0.70228547 0.16400589 0.9841345  0.9855439 ]\n",
      " [0.44473648 0.39129844 0.77172965 0.8035127 ]\n",
      " [0.49111158 0.48879728 0.53886706 0.54551053]\n",
      " [0.4190571  0.3603451  0.83064866 0.8641798 ]\n",
      " [0.49978915 0.4819424  0.55184317 0.55696446]\n",
      " [0.3830665  0.23770496 0.9575509  0.9727041 ]\n",
      " [0.49877995 0.48313716 0.54936415 0.5545694 ]\n",
      " [0.4856636  0.49178207 0.53394085 0.5418525 ]\n",
      " [0.46060175 0.03693781 0.99971014 0.99987555]\n",
      " [0.5325094  0.15316126 0.985515   0.9899317 ]\n",
      " [0.47975647 0.4047483  0.7344124  0.75814915]\n",
      " [0.48078203 0.41292843 0.71743757 0.7403081 ]\n",
      " [0.53970575 0.38130096 0.78601134 0.79680675]\n",
      " [0.38732043 0.05853651 0.9991648  0.9996389 ]\n",
      " [0.46333787 0.5128929  0.49181205 0.5028378 ]\n",
      " [0.44938198 0.34761518 0.8419613  0.87006634]\n",
      " [0.5487074  0.4656847  0.58922094 0.5864054 ]\n",
      " [0.3992213  0.06238394 0.99899095 0.9995484 ]\n",
      " [0.49402595 0.41158178 0.71545166 0.7349384 ]\n",
      " [0.376653   0.27223125 0.93578243 0.9569944 ]\n",
      " [0.46303117 0.5228798  0.46731895 0.4760209 ]\n",
      " [0.46002266 0.5251129  0.46315697 0.47241154]\n",
      " [0.467092   0.51687247 0.48032126 0.48900592]\n",
      " [0.37486187 0.22857584 0.96294284 0.97679263]\n",
      " [0.54884243 0.4658992  0.58919024 0.58643806]\n",
      " [0.81996197 0.00453037 0.99999785 0.9999989 ]\n",
      " [0.489962   0.48855826 0.53996    0.5470733 ]\n",
      " [0.36654848 0.2460914  0.9541067  0.97086906]\n",
      " [0.47240177 0.5028904  0.51246476 0.5225731 ]\n",
      " [0.51836926 0.47241452 0.5669498  0.5676486 ]\n",
      " [0.5092319  0.4795789  0.5557612  0.55810237]\n",
      " [0.4562907  0.0377843  0.9996952  0.9998692 ]\n",
      " [0.4584446  0.524454   0.46547893 0.4754748 ]\n",
      " [0.5449977  0.45941734 0.5899874  0.58522296]\n",
      " [0.5103019  0.02143418 0.9999205  0.99996793]\n",
      " [0.521824   0.42935565 0.6665691  0.6753382 ]\n",
      " [0.4748151  0.50153476 0.514736   0.5242873 ]\n",
      " [0.400122   0.07552301 0.998324   0.9992106 ]\n",
      " [0.359019   0.20602897 0.97379124 0.98454386]\n",
      " [0.49541685 0.41436607 0.7091389  0.72794586]\n",
      " [0.47297907 0.5017278  0.51507515 0.5252485 ]\n",
      " [0.48310372 0.4930727  0.5318996  0.54043436]\n",
      " [0.44430047 0.0290845  0.99984694 0.99993956]\n",
      " [0.501267   0.02692283 0.99986076 0.99994135]\n",
      " [0.5017714  0.4140986  0.7073736  0.7244591 ]\n",
      " [0.5059398  0.41742086 0.6987861  0.7142638 ]\n",
      " [0.53568286 0.4645412  0.5793671  0.57600236]\n",
      " [0.48335034 0.40829664 0.7260067  0.74858934]\n",
      " [0.38637614 0.29274854 0.9176609  0.94240195]\n",
      " [0.61225086 0.03226985 0.9997305  0.99986017]\n",
      " [0.6931665  0.01405705 0.9999653  0.9999833 ]\n",
      " [0.40998098 0.06196376 0.9989889  0.9995409 ]\n",
      " [0.96855795 0.00170132 0.9999999  0.9999999 ]\n",
      " [0.37277752 0.13085938 0.99283993 0.9962441 ]\n",
      " [0.479041   0.06521793 0.9986904  0.9993327 ]\n",
      " [0.4774488  0.4101331  0.7243589  0.7483095 ]\n",
      " [0.44966093 0.02347379 0.99991024 0.99996614]\n",
      " [0.38595173 0.17727935 0.9824096  0.9896923 ]\n",
      " [0.46451616 0.51504457 0.48597676 0.49604952]\n",
      " [0.37286675 0.23702991 0.95869136 0.9738771 ]\n",
      " [0.48947546 0.4960634  0.52172315 0.52724665]\n",
      " [0.67055374 0.23672086 0.9529344  0.95454377]\n",
      " [0.50638837 0.47937226 0.55523103 0.5585858 ]\n",
      " [0.45723137 0.5239471  0.4672659  0.4778322 ]\n",
      " [0.46348605 0.5129871  0.49151373 0.5024624 ]\n",
      " [0.80994904 0.00373358 0.99999857 0.9999994 ]\n",
      " [0.37010872 0.14428304 0.9906013  0.9949496 ]\n",
      " [0.7579494  0.09288359 0.996393   0.9968886 ]\n",
      " [0.3885547  0.07687972 0.9982797  0.9992003 ]\n",
      " [0.35341835 0.24722815 0.95454943 0.9716904 ]\n",
      " [0.72941697 0.13949744 0.98965853 0.99056226]\n",
      " [0.49868277 0.4833446  0.5488993  0.5540911 ]\n",
      " [0.7283815  0.01457499 0.99996305 0.9999809 ]\n",
      " [0.36658612 0.11621285 0.9949232  0.99744934]\n",
      " [0.55998766 0.44400167 0.61870074 0.61190194]\n",
      " [0.48654443 0.49130154 0.5347325  0.54243845]\n",
      " [0.37104407 0.22246183 0.9661423  0.97911865]\n",
      " [0.48578268 0.49195233 0.53346974 0.5412987 ]\n",
      " [0.46370474 0.51386774 0.48924246 0.499898  ]\n",
      " [0.5537574  0.43546763 0.6397581  0.6367366 ]\n",
      " [0.548689   0.46746832 0.5906269  0.58909553]\n",
      " [0.7604314  0.0050145  0.999997   0.9999987 ]\n",
      " [0.4681148  0.50646937 0.5055412  0.51636165]\n",
      " [0.5598613  0.44203818 0.6218744  0.6151443 ]\n",
      " [0.5226174  0.470411   0.5699666  0.5696194 ]\n",
      " [0.38219577 0.16841562 0.98497206 0.9913822 ]\n",
      " [0.45985526 0.5250431  0.46340308 0.4727363 ]\n",
      " [0.38279864 0.08883899 0.997491   0.9987986 ]\n",
      " [0.4171325  0.346842   0.85062724 0.8825559 ]\n",
      " [0.592806   0.3448694  0.847074   0.8506094 ]\n",
      " [0.5468401  0.45527664 0.60980105 0.605739  ]\n",
      " [0.42379734 0.3702085  0.8140639  0.8480677 ]\n",
      " [0.38183323 0.1078693  0.9957482  0.99785715]\n",
      " [0.4866474  0.02662645 0.99986815 0.99994576]\n",
      " [0.39869323 0.3239377  0.88360196 0.9134803 ]\n",
      " [0.6543713  0.2675468  0.93107843 0.93251413]\n",
      " [0.44462413 0.39008957 0.7739649  0.8057326 ]\n",
      " [0.44210494 0.27383038 0.9268363  0.94592196]\n",
      " [0.48580492 0.49221942 0.53280365 0.54056215]\n",
      " [0.48434916 0.49370578 0.5297927  0.5377295 ]\n",
      " [0.54433566 0.46912596 0.5870101  0.586183  ]\n",
      " [0.43441898 0.03871474 0.999688   0.9998696 ]\n",
      " [0.46916026 0.51833355 0.47580016 0.48337156]\n",
      " [0.41921535 0.06645349 0.9987638  0.9994204 ]\n",
      " [0.73866457 0.00734415 0.9999927  0.9999968 ]\n",
      " [0.5247922  0.45882392 0.59695685 0.59855056]\n",
      " [0.49297398 0.4913402  0.5317999  0.53717417]\n",
      " [0.46002266 0.5251129  0.46315697 0.47241154]\n",
      " [0.5656446  0.0109573  0.99998367 0.9999939 ]\n",
      " [0.77342373 0.06153806 0.99884915 0.99908197]\n",
      " [0.45743465 0.52230376 0.4712239  0.48212042]\n",
      " [0.69192356 0.18803507 0.9753845  0.97702914]\n",
      " [0.64107114 0.2536478  0.9429387  0.94614065]\n",
      " [0.38324657 0.17469412 0.9832375  0.99026275]\n",
      " [0.59305036 0.01232266 0.999977   0.9999908 ]\n",
      " [0.49004048 0.49018198 0.53594005 0.5426461 ]\n",
      " [0.47353137 0.03057868 0.99981695 0.9999236 ]\n",
      " [0.46069428 0.5168628  0.4831912  0.49422306]\n",
      " [0.6411923  0.01392743 0.9999658  0.99998486]\n",
      " [0.55729866 0.445036   0.6166802  0.61035657]\n",
      " [0.7369336  0.1372689  0.99022627 0.9910029 ]\n",
      " [0.38472477 0.13217786 0.9924683  0.9959637 ]\n",
      " [0.823598   0.00247323 0.9999994  0.99999976]\n",
      " [0.5539424  0.4525038  0.60458815 0.5988981 ]\n",
      " [0.5478557  0.43799752 0.63633835 0.63474584]\n",
      " [0.40071997 0.32607847 0.88070977 0.9108161 ]\n",
      " [0.4160605  0.09126318 0.99713093 0.99854445]\n",
      " [0.3832476  0.29422224 0.9167739  0.9419344 ]\n",
      " [0.5078162  0.47753212 0.5590963  0.5623699 ]\n",
      " [0.40459153 0.11511518 0.9946925  0.99718034]\n",
      " [0.3773966  0.12547258 0.99358255 0.99664956]\n",
      " [0.49028444 0.4903671  0.5353778  0.5419525 ]\n",
      " [0.5578092  0.01575242 0.99996006 0.999984  ]\n",
      " [0.45906442 0.52073723 0.47436005 0.48504293]\n",
      " [0.5229485  0.03279491 0.99976116 0.99989104]\n",
      " [0.47863922 0.03332666 0.99977    0.9999012 ]\n",
      " [0.44763198 0.39089635 0.77154887 0.80274   ]\n",
      " [0.37184003 0.21208341 0.9706947  0.9821958 ]\n",
      " [0.45600998 0.05186947 0.9993098  0.99967945]\n",
      " [0.48908797 0.49049142 0.5356003  0.5425776 ]\n",
      " [0.47041655 0.40408266 0.7389543  0.76499844]\n",
      " [0.41534877 0.34122083 0.85866505 0.8899519 ]\n",
      " [0.39017025 0.07009212 0.9986506  0.9993861 ]]\n"
     ]
    }
   ],
   "source": [
    "#reduced data and its shape \n",
    "\n",
    "reduced_data150D=middle.predict(X_test)\n",
    "print(reduced_data150D.shape,reduced_data150D)"
   ]
  },
  {
   "cell_type": "code",
   "execution_count": null,
   "metadata": {
    "collapsed": true
   },
   "outputs": [],
   "source": []
  },
  {
   "cell_type": "code",
   "execution_count": null,
   "metadata": {
    "collapsed": false
   },
   "outputs": [],
   "source": [
    "#recontracted data and its shape\n",
    "reconstructed150 = autoencoder.predict(X_test)"
   ]
  },
  {
   "cell_type": "code",
   "execution_count": null,
   "metadata": {
    "collapsed": false
   },
   "outputs": [
    {
     "data": {
      "image/png": "[encoded data removed]",
      "text/plain": [
       "<Figure size 432x288 with 1 Axes>"
      ]
     },
     "metadata": {},
     "output_type": "display_data"
    }
   ],
   "source": [
    "plt.plot(train_scaled[0,:],label='original')\n",
    "plt.plot(minmax_scale(reconstructed150[0,:], axis=0),label='reconstructed')\n",
    "plt.legend()\n",
    "plt.show()"
   ]
  },
  {
   "cell_type": "code",
   "execution_count": null,
   "metadata": {
    "collapsed": true
   },
   "outputs": [],
   "source": []
  },
  {
   "cell_type": "code",
   "execution_count": null,
   "metadata": {
    "collapsed": true
   },
   "outputs": [],
   "source": []
  },
  {
   "cell_type": "code",
   "execution_count": null,
   "metadata": {
    "collapsed": true
   },
   "outputs": [],
   "source": []
  },
  {
   "cell_type": "code",
   "execution_count": null,
   "metadata": {
    "collapsed": true
   },
   "outputs": [],
   "source": []
  }
 ],
 "metadata": {
  "kernelspec": {
   "display_name": "Python 3",
   "language": "python",
   "name": "python3"
  },
  "language_info": {
   "codemirror_mode": {
    "name": "ipython",
    "version": 3
   },
   "file_extension": ".py",
   "mimetype": "text/x-python",
   "name": "python",
   "nbconvert_exporter": "python",
   "pygments_lexer": "ipython3",
   "version": "3.5.3"
  }
 },
 "nbformat": 4,
 "nbformat_minor": 2
}
